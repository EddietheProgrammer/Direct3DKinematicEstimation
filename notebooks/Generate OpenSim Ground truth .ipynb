{
 "cells": [
  {
   "cell_type": "code",
   "execution_count": 1,
   "id": "cf77c2b2",
   "metadata": {},
   "outputs": [],
   "source": [
    "import torch\n",
    "import sys\n",
    "sys.path.append(\"D:/ms_model_estimation\")"
   ]
  },
  {
   "cell_type": "code",
   "execution_count": 2,
   "id": "390b580f",
   "metadata": {},
   "outputs": [],
   "source": [
    "from ms_model_estimation.opensim.OpenSimModel import OpenSimModel\n",
    "from ms_model_estimation.smplh.scalingIKInf import IKTaskSet, scalingIKSet, scaleSet\n",
    "from ms_model_estimation.opensim.DataReader import DataReader\n",
    "from ms_model_estimation.opensim.OSLabelGenerator import BMLAmassOpenSimGTGenerator\n",
    "from ms_model_estimation.pyOpenSim.TrcGenerator import TrcGenerator\n",
    "import pickle\n"
   ]
  },
  {
   "cell_type": "code",
   "execution_count": 3,
   "id": "83771e81",
   "metadata": {},
   "outputs": [],
   "source": [
    "modelPath=\"D:/ms_model_estimation/dataset/opensim/BMLmovi/full_body.osim\"\n",
    "amassFolder=\"D:/mscWeitseYangLocal/dataset/amass/\"\n",
    "v3dFolder = \"D:/mscWeitseYangLocal/dataset/BMLmovi/v3d/F/\""
   ]
  },
  {
   "cell_type": "code",
   "execution_count": 4,
   "id": "71ffc613",
   "metadata": {},
   "outputs": [],
   "source": [
    "dataReader=DataReader()\n",
    "ikset=dataReader.read_ik_set(IKTaskSet)\n",
    "scalingIKSet=dataReader.read_ik_set(scalingIKSet)\n",
    "scaleset=dataReader.read_scale_set(scaleSet)"
   ]
  },
  {
   "cell_type": "code",
   "execution_count": 5,
   "id": "8ca40e68",
   "metadata": {},
   "outputs": [],
   "source": [
    "gtGenerator=BMLAmassOpenSimGTGenerator(\n",
    "    v3dFolder, amassFolder, modelPath, scaleset , scalingIKSet , ikset,\n",
    "    reScale=True, reIK=True, scaleOnly=False\n",
    ")"
   ]
  },
  {
   "cell_type": "code",
   "execution_count": 6,
   "id": "5da615aa",
   "metadata": {},
   "outputs": [],
   "source": [
    "npzPathList=gtGenerator.traverse_npz_files(\"BMLmovi\")"
   ]
  },
  {
   "cell_type": "code",
   "execution_count": 7,
   "id": "773ae3a8",
   "metadata": {},
   "outputs": [],
   "source": [
    "for path in npzPathList[:2]:\n",
    "    gtGenerator.generate(path)"
   ]
  },
  {
   "cell_type": "code",
   "execution_count": 8,
   "id": "a4ce3d7c",
   "metadata": {},
   "outputs": [],
   "source": [
    "from ms_model_estimation import Postscaling_LockedCoordinates, Postscaling_UnlockedConstraints, ChangingParentMarkers\n"
   ]
  },
  {
   "cell_type": "code",
   "execution_count": 9,
   "id": "c351eceb",
   "metadata": {},
   "outputs": [
    {
     "data": {
      "text/plain": [
       "['sternoclavicular_r2_con',\n",
       " 'sternoclavicular_r3_con',\n",
       " 'acromioclavicular_r2_con',\n",
       " 'sternoclavicular_r2_con_l',\n",
       " 'sternoclavicular_r3_con_l',\n",
       " 'acromioclavicular_r2_con_l']"
      ]
     },
     "execution_count": 9,
     "metadata": {},
     "output_type": "execute_result"
    }
   ],
   "source": [
    "gtGenerator.opensimModel.postscaling_unlockedConstraints"
   ]
  },
  {
   "cell_type": "code",
   "execution_count": null,
   "id": "c26ef27f",
   "metadata": {},
   "outputs": [],
   "source": []
  }
 ],
 "metadata": {
  "kernelspec": {
   "display_name": "Python 3 (ipykernel)",
   "language": "python",
   "name": "python3"
  },
  "language_info": {
   "codemirror_mode": {
    "name": "ipython",
    "version": 3
   },
   "file_extension": ".py",
   "mimetype": "text/x-python",
   "name": "python",
   "nbconvert_exporter": "python",
   "pygments_lexer": "ipython3",
   "version": "3.8.0"
  }
 },
 "nbformat": 4,
 "nbformat_minor": 5
}
